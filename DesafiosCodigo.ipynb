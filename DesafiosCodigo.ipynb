{
  "nbformat": 4,
  "nbformat_minor": 0,
  "metadata": {
    "colab": {
      "provenance": []
    },
    "kernelspec": {
      "name": "python3",
      "display_name": "Python 3"
    },
    "language_info": {
      "name": "python"
    }
  },
  "cells": [
    {
      "cell_type": "markdown",
      "source": [],
      "metadata": {
        "id": "JLmW1kE9uylZ"
      }
    },
    {
      "cell_type": "code",
      "source": [
        "#Tempo Estimado de Entrega\n",
        "#1 / 1 - Tempo Estimado de Entrega\n",
        "\n",
        "\n",
        "\n",
        "nomeRestaurante = input()\n",
        "tempoEstimadoEntrega = int(input())\n",
        "\n",
        "# Imprimir a saída no padrão definido no enunciado deste desafio\n",
        "print(f\"O restaurante {nomeRestaurante} entrega em {tempoEstimadoEntrega} minutos.\")\n",
        "\n",
        "\n"
      ],
      "metadata": {
        "id": "omZNJ9CRtc1I"
      },
      "execution_count": null,
      "outputs": []
    },
    {
      "cell_type": "code",
      "source": [
        "#Calcular o Preço Final de um Pedido\n",
        "# 1 / 1 - Calcular o Preço Final de um Pedido\n",
        "\n",
        "valorHamburguer = float(input())\n",
        "quantidadeHamburguer = int(input())\n",
        "valorBebida = float(input())\n",
        "quantidadeBebida = int(input())\n",
        "valorPago = float(input())\n",
        "\n",
        "\n",
        "# Cálculo do preço total do pedido\n",
        "precoHamburguer = valorHamburguer * quantidadeHamburguer\n",
        "precoBebida = valorBebida * quantidadeBebida\n",
        "precoTotal = precoHamburguer + precoBebida\n",
        "\n",
        "# Cálculo do troco necessário\n",
        "troco = valorPago - precoTotal\n",
        "\n",
        "# Formatando a mensagem de saída\n",
        "mensagem = f\"O preço final do pedido é R$ {precoTotal:.2f}. Seu troco é R$ {troco:.2f}.\"\n",
        "\n",
        "print(mensagem)"
      ],
      "metadata": {
        "colab": {
          "base_uri": "https://localhost:8080/"
        },
        "id": "HbA7O9Lcts1J",
        "outputId": "c7925cd6-18d3-40f2-c7dd-c95529f3ab84"
      },
      "execution_count": null,
      "outputs": [
        {
          "output_type": "stream",
          "name": "stdout",
          "text": [
            "50\n",
            "1\n",
            "5\n",
            "4\n",
            "2\n",
            "O preço final do pedido é R$ 70.00. Seu troco é R$ -68.00.\n"
          ]
        }
      ]
    },
    {
      "cell_type": "code",
      "source": [
        "#Ganhe uma Sobremesa Especial!\n",
        "#1 / 1 - Ganhe uma Sobremesa Especial!\n",
        "\n",
        "\n",
        "valorPedido = int(input())\n",
        "\n",
        "if valorPedido >= 50.00:\n",
        "    mensagem = \"Parabens, você ganhou uma sobremesa gratis!\"\n",
        "else:\n",
        "    mensagem = \"Que pena, você nao ganhou nenhum brinde especial.\"\n",
        "\n",
        "print(mensagem)"
      ],
      "metadata": {
        "id": "sfnrP_pu_UKc"
      },
      "execution_count": null,
      "outputs": []
    },
    {
      "cell_type": "code",
      "source": [
        "#Gerenciamento de Pedidos de Comida Online\n",
        "#1 / 1 - Gerenciamento de Pedidos de Comida Online\n",
        "\n",
        "\n",
        "def main():\n",
        "    n = int(input())\n",
        "\n",
        "    total = 0\n",
        "\n",
        "    for i in range(1, n + 1):\n",
        "        pedido = input().split(\" \")\n",
        "        nome = pedido[0]\n",
        "        valor = float(pedido[1])\n",
        "        total += valor\n",
        "\n",
        "\n",
        "    # TODO: Criar as condições para aplicar o cupom de desconto (10% ou 20%).\n",
        "    cupomDesconto = input()\n",
        "\n",
        "    if cupomDesconto == \"10%\":\n",
        "        total *= 0.9\n",
        "    elif cupomDesconto == \"20%\":\n",
        "        total *= 0.8\n",
        "\n",
        "    print(f\"Valor total: {total:.2f}\")\n",
        "\n",
        "\n",
        "if __name__ == \"__main__\":\n",
        "    main()"
      ],
      "metadata": {
        "id": "6QqT_SC8AVQx"
      },
      "execution_count": null,
      "outputs": []
    },
    {
      "cell_type": "code",
      "source": [
        "#Identificando Pedidos Veganos\n",
        "#1 / 1 - Identificando Pedidos Veganos\n",
        "\n",
        "numPedidos = int(input())\n",
        "\n",
        "for i in range(1, numPedidos + 1):\n",
        "    prato = input()\n",
        "    calorias = int(input())\n",
        "    ehVegano = input().lower() == \"s\"\n",
        "\n",
        "    # Verifica se o prato é vegano ou não e atribui uma descrição correspondente\n",
        "    descricaoVegano = \"Vegano\" if ehVegano else \"Nao-vegano\"\n",
        "\n",
        "    # Imprime a saída formatada\n",
        "    print(f\"Pedido {i}: {prato} ({descricaoVegano}) - {calorias} calorias\")"
      ],
      "metadata": {
        "id": "SwQ2R8kiBAU5"
      },
      "execution_count": null,
      "outputs": []
    }
  ]
}